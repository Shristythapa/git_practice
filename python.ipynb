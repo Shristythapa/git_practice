{
  "nbformat": 4,
  "nbformat_minor": 0,
  "metadata": {
    "colab": {
      "provenance": []
    },
    "kernelspec": {
      "name": "python3",
      "display_name": "Python 3"
    },
    "language_info": {
      "name": "python"
    }
  },
  "cells": [
    {
      "cell_type": "code",
      "execution_count": null,
      "metadata": {
        "colab": {
          "base_uri": "https://localhost:8080/"
        },
        "id": "4jkiS-mwd_gs",
        "outputId": "5a0363df-7f5c-439d-b1f1-2337e4ee6dd7"
      },
      "outputs": [
        {
          "output_type": "stream",
          "name": "stdout",
          "text": [
            "None\n"
          ]
        }
      ],
      "source": [
        "boole = True\n",
        "boole = None\n",
        "print(boole)"
      ]
    },
    {
      "cell_type": "code",
      "source": [
        "print(type(boole))"
      ],
      "metadata": {
        "colab": {
          "base_uri": "https://localhost:8080/"
        },
        "id": "J2-V8nLNeJtU",
        "outputId": "0cb0dbd0-f335-497f-d2b3-b403204651d2"
      },
      "execution_count": null,
      "outputs": [
        {
          "output_type": "stream",
          "name": "stdout",
          "text": [
            "<class 'NoneType'>\n"
          ]
        }
      ]
    },
    {
      "cell_type": "code",
      "source": [
        "li = [\"apple\",[1,2,3],1]\n",
        "print(li)"
      ],
      "metadata": {
        "colab": {
          "base_uri": "https://localhost:8080/"
        },
        "id": "b5uO_wooeMQv",
        "outputId": "ed5273c7-871c-46d7-e8a1-100118181c6c"
      },
      "execution_count": null,
      "outputs": [
        {
          "output_type": "stream",
          "name": "stdout",
          "text": [
            "['apple', [1, 2, 3], 1]\n"
          ]
        }
      ]
    },
    {
      "cell_type": "code",
      "source": [
        "see = {1,\"Apple\",1}\n",
        "print(see)"
      ],
      "metadata": {
        "colab": {
          "base_uri": "https://localhost:8080/"
        },
        "id": "oP6ZWa3Ve0Xx",
        "outputId": "1e060b76-e302-48d7-f11d-667d52beb0fe"
      },
      "execution_count": null,
      "outputs": [
        {
          "output_type": "stream",
          "name": "stdout",
          "text": [
            "{1, 'Apple'}\n"
          ]
        }
      ]
    },
    {
      "cell_type": "code",
      "source": [
        "tu = (1,2.0,\"Apple\")\n",
        "print(tu)"
      ],
      "metadata": {
        "colab": {
          "base_uri": "https://localhost:8080/"
        },
        "id": "DWjvi1iegJd2",
        "outputId": "e7a1c9ac-abe5-4693-9936-b8e853039eea"
      },
      "execution_count": null,
      "outputs": [
        {
          "output_type": "stream",
          "name": "stdout",
          "text": [
            "(1, 2.0, 'Apple')\n"
          ]
        }
      ]
    },
    {
      "cell_type": "code",
      "source": [
        "my_dic = {1:\"Apple\",2:\"Bananas\"}"
      ],
      "metadata": {
        "id": "rAZWOwTagsXp"
      },
      "execution_count": null,
      "outputs": []
    },
    {
      "cell_type": "code",
      "source": [
        "my_dic.keys()"
      ],
      "metadata": {
        "colab": {
          "base_uri": "https://localhost:8080/"
        },
        "id": "YFTY-v_UiTS3",
        "outputId": "95091805-2c05-447e-e24a-d09eeefd92f4"
      },
      "execution_count": null,
      "outputs": [
        {
          "output_type": "execute_result",
          "data": {
            "text/plain": [
              "dict_keys([1, 2])"
            ]
          },
          "metadata": {},
          "execution_count": 10
        }
      ]
    },
    {
      "cell_type": "code",
      "source": [
        "my_dic.values()"
      ],
      "metadata": {
        "colab": {
          "base_uri": "https://localhost:8080/"
        },
        "id": "za6oRJCziU5i",
        "outputId": "bddec57f-9cff-433f-f44c-ed5f876bb8b5"
      },
      "execution_count": null,
      "outputs": [
        {
          "output_type": "execute_result",
          "data": {
            "text/plain": [
              "dict_values(['Apple', 'Bananas'])"
            ]
          },
          "metadata": {},
          "execution_count": 11
        }
      ]
    },
    {
      "cell_type": "code",
      "source": [
        "my_dic.get(1)"
      ],
      "metadata": {
        "colab": {
          "base_uri": "https://localhost:8080/",
          "height": 35
        },
        "id": "3q-qJrLMiWjW",
        "outputId": "b2fd7ba6-aa3c-47e7-cea7-62d6b722a921"
      },
      "execution_count": null,
      "outputs": [
        {
          "output_type": "execute_result",
          "data": {
            "text/plain": [
              "'Apple'"
            ],
            "application/vnd.google.colaboratory.intrinsic+json": {
              "type": "string"
            }
          },
          "metadata": {},
          "execution_count": 12
        }
      ]
    },
    {
      "cell_type": "code",
      "source": [
        "data = [1, 2, 3, 4]\n",
        "squared_gen = (x**2 for x in data)\n"
      ],
      "metadata": {
        "id": "bwUHto1pidS_"
      },
      "execution_count": null,
      "outputs": []
    },
    {
      "cell_type": "code",
      "source": [
        "type(squared_gen)"
      ],
      "metadata": {
        "colab": {
          "base_uri": "https://localhost:8080/"
        },
        "id": "UY5tEzj-miCu",
        "outputId": "8871aa5f-4816-4fa4-8b52-48689f64b1f1"
      },
      "execution_count": null,
      "outputs": [
        {
          "output_type": "execute_result",
          "data": {
            "text/plain": [
              "generator"
            ]
          },
          "metadata": {},
          "execution_count": 15
        }
      ]
    },
    {
      "cell_type": "code",
      "source": [],
      "metadata": {
        "id": "EDLQ3N1uoanU"
      },
      "execution_count": null,
      "outputs": []
    },
    {
      "cell_type": "code",
      "source": [
        "from google.colab import drive\n",
        "drive.mount('/content/drive')"
      ],
      "metadata": {
        "colab": {
          "base_uri": "https://localhost:8080/"
        },
        "id": "fbft1IFNmkl-",
        "outputId": "ba815f06-097d-4824-906b-0d5426b0b9f6"
      },
      "execution_count": null,
      "outputs": [
        {
          "output_type": "stream",
          "name": "stdout",
          "text": [
            "Mounted at /content/drive\n"
          ]
        }
      ]
    },
    {
      "cell_type": "code",
      "source": [
        "import csv"
      ],
      "metadata": {
        "id": "NhtO3cn-2Xmi"
      },
      "execution_count": null,
      "outputs": []
    },
    {
      "cell_type": "code",
      "source": [
        "\n",
        "data = [[\"Name\", \"Age\"], [\"Alice\", 24], [\"Bob\", 27]]\n",
        "with open(\"/content/drive/MyDrive/output.csv\", \"w\", newline=\"\") as file:\n",
        "    writer = csv.writer(file)\n",
        "    writer.writerows(data)"
      ],
      "metadata": {
        "id": "5FxH-kbW2D1Z"
      },
      "execution_count": null,
      "outputs": []
    },
    {
      "cell_type": "code",
      "source": [
        "import pandas as pd\n",
        "\n",
        "# Read CSV\n",
        "df = pd.read_csv(\"/content/drive/MyDrive/data.csv\")\n",
        "\n",
        "\n",
        "# Save to CSV\n",
        "df.to_csv(\"updated_data.csv\", index=False)"
      ],
      "metadata": {
        "id": "YKp24gpC2b_U"
      },
      "execution_count": null,
      "outputs": []
    },
    {
      "cell_type": "code",
      "source": [
        "import json\n",
        "\n",
        "# Writing data to JSON\n",
        "data = {\"name\": \"Shristy\", \"age\": 21,}\n",
        "with open(\"/content/drive/MyDrive/data.json\", \"w\") as file:\n",
        "    json.dump(data, file)\n",
        "\n",
        "# Reading data from JSON\n",
        "with open(\"/content/drive/MyDrive/data.json\", \"r\") as file:\n",
        "    data = json.load(file)\n",
        "    print(data)\n",
        "\n",
        "df="
      ],
      "metadata": {
        "colab": {
          "base_uri": "https://localhost:8080/"
        },
        "id": "vB-v5zcF4Qw1",
        "outputId": "6ace7ad1-9916-4d29-bd57-41f51a722577"
      },
      "execution_count": null,
      "outputs": [
        {
          "output_type": "stream",
          "name": "stdout",
          "text": [
            "{'name': 'Alice', 'age': 25, 'city': 'New York'}\n"
          ]
        }
      ]
    },
    {
      "cell_type": "code",
      "source": [
        "type(data)"
      ],
      "metadata": {
        "colab": {
          "base_uri": "https://localhost:8080/"
        },
        "id": "qN_AlwdN4Y3a",
        "outputId": "883d32ed-4051-4d50-ba78-38f877afd07a"
      },
      "execution_count": null,
      "outputs": [
        {
          "output_type": "execute_result",
          "data": {
            "text/plain": [
              "dict"
            ]
          },
          "metadata": {},
          "execution_count": 23
        }
      ]
    },
    {
      "cell_type": "code",
      "source": [],
      "metadata": {
        "id": "-QxjXcz-Bqxh"
      },
      "execution_count": null,
      "outputs": []
    },
    {
      "cell_type": "code",
      "source": [
        "import numpy as np\n",
        "array_1d = np.array([1, 2, 3])\n",
        "array_2d = np.array([[1, 2], [3, 4]])"
      ],
      "metadata": {
        "id": "lG5DtNWG4aqZ"
      },
      "execution_count": null,
      "outputs": []
    },
    {
      "cell_type": "code",
      "source": [
        "array = np.array([1, 2, 3, 4, 5, 6])\n",
        "reshaped_array = array.reshape(2, 3)\n",
        "print(reshaped_array.ndim)"
      ],
      "metadata": {
        "colab": {
          "base_uri": "https://localhost:8080/"
        },
        "id": "424cmW9_93iL",
        "outputId": "98331e04-edf4-4f1f-f541-132affd5b5d5"
      },
      "execution_count": null,
      "outputs": [
        {
          "output_type": "stream",
          "name": "stdout",
          "text": [
            "2\n"
          ]
        }
      ]
    },
    {
      "cell_type": "code",
      "source": [
        "flattned_array = reshaped_array.flatten()\n",
        "print(flattned_array.ndim)"
      ],
      "metadata": {
        "colab": {
          "base_uri": "https://localhost:8080/"
        },
        "id": "Xjcw99ZX93b1",
        "outputId": "8adbfe38-55b3-4ee8-a28c-2f3a20b024a1"
      },
      "execution_count": null,
      "outputs": [
        {
          "output_type": "stream",
          "name": "stdout",
          "text": [
            "1\n"
          ]
        }
      ]
    },
    {
      "cell_type": "code",
      "source": [
        "import pandas as pd\n",
        "\n",
        "data = {'Name': ['Alice', 'Bob','Meg',np.nan], 'Age': [24, 27, np.nan,12]}\n",
        "df = pd.DataFrame(data)"
      ],
      "metadata": {
        "id": "RWUQyes87_25"
      },
      "execution_count": null,
      "outputs": []
    },
    {
      "cell_type": "code",
      "source": [
        "df.isnull().sum()"
      ],
      "metadata": {
        "colab": {
          "base_uri": "https://localhost:8080/",
          "height": 146
        },
        "id": "5DRH0xfLcUA8",
        "outputId": "83caa84b-c444-4fca-bc40-eb074ca63b20"
      },
      "execution_count": null,
      "outputs": [
        {
          "output_type": "execute_result",
          "data": {
            "text/plain": [
              "Name    1\n",
              "Age     1\n",
              "dtype: int64"
            ],
            "text/html": [
              "<div>\n",
              "<style scoped>\n",
              "    .dataframe tbody tr th:only-of-type {\n",
              "        vertical-align: middle;\n",
              "    }\n",
              "\n",
              "    .dataframe tbody tr th {\n",
              "        vertical-align: top;\n",
              "    }\n",
              "\n",
              "    .dataframe thead th {\n",
              "        text-align: right;\n",
              "    }\n",
              "</style>\n",
              "<table border=\"1\" class=\"dataframe\">\n",
              "  <thead>\n",
              "    <tr style=\"text-align: right;\">\n",
              "      <th></th>\n",
              "      <th>0</th>\n",
              "    </tr>\n",
              "  </thead>\n",
              "  <tbody>\n",
              "    <tr>\n",
              "      <th>Name</th>\n",
              "      <td>1</td>\n",
              "    </tr>\n",
              "    <tr>\n",
              "      <th>Age</th>\n",
              "      <td>1</td>\n",
              "    </tr>\n",
              "  </tbody>\n",
              "</table>\n",
              "</div><br><label><b>dtype:</b> int64</label>"
            ]
          },
          "metadata": {},
          "execution_count": 47
        }
      ]
    },
    {
      "cell_type": "code",
      "source": [
        "df= df['Age'].fillna(0)"
      ],
      "metadata": {
        "id": "Z2dasQiiF4_I"
      },
      "execution_count": null,
      "outputs": []
    },
    {
      "cell_type": "code",
      "source": [
        "print(df)"
      ],
      "metadata": {
        "colab": {
          "base_uri": "https://localhost:8080/"
        },
        "id": "dYBfe8d7GEMP",
        "outputId": "69d7e1e0-1aa0-4246-c0bc-0ff77365c16e"
      },
      "execution_count": null,
      "outputs": [
        {
          "output_type": "stream",
          "name": "stdout",
          "text": [
            "0    24.0\n",
            "1    27.0\n",
            "2     0.0\n",
            "3    12.0\n",
            "Name: Age, dtype: float64\n"
          ]
        }
      ]
    },
    {
      "cell_type": "markdown",
      "source": [
        "### generators"
      ],
      "metadata": {
        "id": "mQIxevoa4ukg"
      }
    },
    {
      "cell_type": "code",
      "source": [
        "generator = (num ** 2 for num in range(10))\n",
        "print(generator)\n",
        "for num in generator:\n",
        "    print(num)"
      ],
      "metadata": {
        "id": "HCJSO6gbGJFk",
        "colab": {
          "base_uri": "https://localhost:8080/"
        },
        "outputId": "2f25616a-96ee-4618-fd68-1f285207bda0"
      },
      "execution_count": 1,
      "outputs": [
        {
          "output_type": "stream",
          "name": "stdout",
          "text": [
            "0\n",
            "1\n",
            "4\n",
            "9\n",
            "16\n",
            "25\n",
            "36\n",
            "49\n",
            "64\n",
            "81\n"
          ]
        }
      ]
    },
    {
      "cell_type": "code",
      "source": [
        "squares = (x**2 for x in range(0,10))"
      ],
      "metadata": {
        "id": "7f2EpGs-7FG1"
      },
      "execution_count": 7,
      "outputs": []
    },
    {
      "cell_type": "code",
      "source": [
        "for i in squares:\n",
        "  print(i)"
      ],
      "metadata": {
        "colab": {
          "base_uri": "https://localhost:8080/"
        },
        "id": "8wZqbBwH9AFT",
        "outputId": "1a591ac9-b604-494f-8870-7644436df993"
      },
      "execution_count": 5,
      "outputs": [
        {
          "output_type": "stream",
          "name": "stdout",
          "text": [
            "0\n",
            "1\n",
            "4\n",
            "9\n",
            "16\n",
            "25\n",
            "36\n",
            "49\n",
            "64\n",
            "81\n"
          ]
        }
      ]
    },
    {
      "cell_type": "code",
      "source": [
        "print(next(squares))"
      ],
      "metadata": {
        "colab": {
          "base_uri": "https://localhost:8080/"
        },
        "id": "im9oaQm69aGs",
        "outputId": "f6c88f94-419c-4266-d9de-62a82faf765c"
      },
      "execution_count": 8,
      "outputs": [
        {
          "output_type": "stream",
          "name": "stdout",
          "text": [
            "0\n"
          ]
        }
      ]
    },
    {
      "cell_type": "code",
      "source": [
        "print(next(squares))"
      ],
      "metadata": {
        "colab": {
          "base_uri": "https://localhost:8080/"
        },
        "id": "5jytK8Ju90s4",
        "outputId": "1c52c699-dc89-42cf-b9ca-778c70166cfe"
      },
      "execution_count": 9,
      "outputs": [
        {
          "output_type": "stream",
          "name": "stdout",
          "text": [
            "1\n"
          ]
        }
      ]
    },
    {
      "cell_type": "code",
      "source": [],
      "metadata": {
        "id": "lG02KiK998w-"
      },
      "execution_count": null,
      "outputs": []
    }
  ]
}